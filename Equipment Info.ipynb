{
 "cells": [
  {
   "cell_type": "code",
   "execution_count": null,
   "metadata": {},
   "outputs": [],
   "source": [
    "import pandas as pd\n",
    "import plotly.express as px\n",
    "from geopy.geocoders import Nominatim\n",
    "import nbformat\n",
    "print(nbformat.__version__)\n",
    "\n",
    "import time\n",
    "\n",
    "print(pd.__version__)"
   ]
  },
  {
   "cell_type": "code",
   "execution_count": null,
   "metadata": {},
   "outputs": [],
   "source": [
    "df = pd.read_csv('./Equipment.csv')\n",
    "\n",
    "df.info()"
   ]
  },
  {
   "cell_type": "code",
   "execution_count": null,
   "metadata": {},
   "outputs": [],
   "source": [
    "df.head()"
   ]
  },
  {
   "cell_type": "code",
   "execution_count": null,
   "metadata": {},
   "outputs": [],
   "source": [
    "df.rename(\n",
    "    columns= {\n",
    "        'Account': 'account',\n",
    "        'Location': 'location',\n",
    "        'IP Street': 'street',\n",
    "        'IP City': 'city',\n",
    "        'IP State': 'state',\n",
    "        'IP Zip/Postal Code': 'zipcode',\n",
    "        'Primary Technician: Member Name': 'primary_fse',\n",
    "        'Secondary Technician Name': 'secondary_fse',\n",
    "        'EoL Date IP': 'eol',\n",
    "        'Device Age': 'device_age',\n",
    "        'Customer/Device Acceptance Date': 'cat',\n",
    "        'EoGS Date IP': 'eogs',\n",
    "        'Installed Product: Installed Product': 'ip'\n",
    "\n",
    "    }, inplace=True\n",
    ")\n",
    "\n",
    "\n",
    "\n",
    "# Drop rows where column 'B' has NaN\n",
    "df_clean = df.dropna(subset=['location'])\n",
    "\n",
    "df_clean\n",
    "\n",
    "\n",
    "# df_clean.tail()"
   ]
  },
  {
   "cell_type": "code",
   "execution_count": null,
   "metadata": {},
   "outputs": [],
   "source": [
    "average_age = df_clean['device_age'].mean()\n",
    "max_age = df_clean['device_age'].max()\n",
    "print(f'Average Equipment Age: {round(average_age)} years')\n",
    "print(f'Oldest Equipment Age: {max_age} years')"
   ]
  },
  {
   "cell_type": "markdown",
   "metadata": {},
   "source": [
    "# Function to combine Address\n"
   ]
  },
  {
   "cell_type": "code",
   "execution_count": 6,
   "metadata": {},
   "outputs": [],
   "source": [
    "def combine_address(row):\n",
    "    zipcode = row['zipcode'][:5]\n",
    "    return f\"{row['street']}, {row['city']}, {row['state']}, {zipcode}\""
   ]
  },
  {
   "cell_type": "code",
   "execution_count": null,
   "metadata": {},
   "outputs": [],
   "source": [
    "df_clean['address'] = df_clean.apply(combine_address, axis=1)"
   ]
  },
  {
   "cell_type": "code",
   "execution_count": 8,
   "metadata": {},
   "outputs": [],
   "source": [
    "# Initialize geocoder\n",
    "geolocator = Nominatim(user_agent=\"LocatingMachines\")"
   ]
  },
  {
   "cell_type": "code",
   "execution_count": 9,
   "metadata": {},
   "outputs": [],
   "source": [
    "# Function to get latitude and longitude from an address\n",
    "def geocode_address(address):\n",
    "    print(f\"Geocoding: {address}\")\n",
    "    try:\n",
    "        location = geolocator.geocode(address, timeout=5)\n",
    "        \n",
    "        if location:\n",
    "            print(f\"Found: {location.latitude}, {location.longitude}\")  # Print the found coordinates\n",
    "            return pd.Series([location.latitude, location.longitude])\n",
    "        else:\n",
    "            print(\"Location not found!\")\n",
    "            return pd.Series([None, None])\n",
    "        \n",
    "    except Exception as e:\n",
    "        print(f\"Error: {e}\")\n",
    "        return pd.Series([None, None])\n",
    " "
   ]
  },
  {
   "cell_type": "code",
   "execution_count": null,
   "metadata": {},
   "outputs": [],
   "source": [
    "# Apply geocoding to get latitude and longitude\n",
    "df_clean[['latitude', 'longitude']] = df_clean['address'].apply(geocode_address)"
   ]
  },
  {
   "cell_type": "code",
   "execution_count": null,
   "metadata": {},
   "outputs": [],
   "source": [
    "\n",
    "df_clean_no_coordinates = df_clean.dropna(subset=['latitude', 'longitude'])\n",
    "\n",
    "df_clean_no_coordinates"
   ]
  },
  {
   "cell_type": "code",
   "execution_count": null,
   "metadata": {},
   "outputs": [],
   "source": [
    "# Plot points on a map using Plotly Express\n",
    "fig = px.scatter_mapbox(df_clean_no_coordinates, \n",
    "                        lat=\"latitude\", \n",
    "                        lon=\"longitude\", \n",
    "                        hover_name=\"address\",\n",
    "                        \n",
    "                        zoom=6, \n",
    "                        height=800)\n",
    "\n",
    "# Set map style and layout\n",
    "fig.update_layout(mapbox_style=\"open-street-map\")\n",
    "fig.show()"
   ]
  }
 ],
 "metadata": {
  "kernelspec": {
   "display_name": "Python 3",
   "language": "python",
   "name": "python3"
  },
  "language_info": {
   "codemirror_mode": {
    "name": "ipython",
    "version": 3
   },
   "file_extension": ".py",
   "mimetype": "text/x-python",
   "name": "python",
   "nbconvert_exporter": "python",
   "pygments_lexer": "ipython3",
   "version": "3.12.3"
  }
 },
 "nbformat": 4,
 "nbformat_minor": 2
}
